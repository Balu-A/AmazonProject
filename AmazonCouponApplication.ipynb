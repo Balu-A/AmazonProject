{
 "cells": [
  {
   "cell_type": "markdown",
   "metadata": {},
   "source": [
    "<span style=\"font-size: 35px; color: Green;font-family: 'Times New Roman', Times, serif;\">Data Understanding</span>.\n",
    "<span style=\"font-size: 20px; color: red;font-family: 'Times New Roman', Times, serif;\">Read CSV into a Pandas object</span>\n"
   ]
  },
  {
   "cell_type": "code",
   "execution_count": 374,
   "metadata": {
    "ExecuteTime": {
     "end_time": "2024-02-26T03:39:41.521795400Z",
     "start_time": "2024-02-26T03:39:40.136524300Z"
    }
   },
   "outputs": [
    {
     "data": {
      "text/plain": "(12684, 26)"
     },
     "execution_count": 374,
     "metadata": {},
     "output_type": "execute_result"
    }
   ],
   "source": [
    "import matplotlib.pyplot as plt\n",
    "import seaborn as sns\n",
    "import pandas as pd\n",
    "import numpy as np\n",
    "import plotly.express as px\n",
    "\n",
    "\n",
    "data = pd.read_csv('data/coupons.csv')\n",
    "data.shape"
   ]
  },
  {
   "cell_type": "code",
   "outputs": [
    {
     "name": "stdout",
     "output_type": "stream",
     "text": [
      "<class 'pandas.core.frame.DataFrame'>\n",
      "RangeIndex: 12684 entries, 0 to 12683\n",
      "Data columns (total 26 columns):\n",
      " #   Column                Non-Null Count  Dtype \n",
      "---  ------                --------------  ----- \n",
      " 0   destination           12684 non-null  object\n",
      " 1   passanger             12684 non-null  object\n",
      " 2   weather               12684 non-null  object\n",
      " 3   temperature           12684 non-null  int64 \n",
      " 4   time                  12684 non-null  object\n",
      " 5   coupon                12684 non-null  object\n",
      " 6   expiration            12684 non-null  object\n",
      " 7   gender                12684 non-null  object\n",
      " 8   age                   12684 non-null  object\n",
      " 9   maritalStatus         12684 non-null  object\n",
      " 10  has_children          12684 non-null  int64 \n",
      " 11  education             12684 non-null  object\n",
      " 12  occupation            12684 non-null  object\n",
      " 13  income                12684 non-null  object\n",
      " 14  car                   108 non-null    object\n",
      " 15  Bar                   12577 non-null  object\n",
      " 16  CoffeeHouse           12467 non-null  object\n",
      " 17  CarryAway             12533 non-null  object\n",
      " 18  RestaurantLessThan20  12554 non-null  object\n",
      " 19  Restaurant20To50      12495 non-null  object\n",
      " 20  toCoupon_GEQ5min      12684 non-null  int64 \n",
      " 21  toCoupon_GEQ15min     12684 non-null  int64 \n",
      " 22  toCoupon_GEQ25min     12684 non-null  int64 \n",
      " 23  direction_same        12684 non-null  int64 \n",
      " 24  direction_opp         12684 non-null  int64 \n",
      " 25  Y                     12684 non-null  int64 \n",
      "dtypes: int64(8), object(18)\n",
      "memory usage: 2.5+ MB\n"
     ]
    }
   ],
   "source": [
    "data.info()"
   ],
   "metadata": {
    "collapsed": false,
    "ExecuteTime": {
     "end_time": "2024-02-26T03:39:42.147449600Z",
     "start_time": "2024-02-26T03:39:41.479869Z"
    }
   },
   "execution_count": 375
  },
  {
   "cell_type": "markdown",
   "source": [
    "<span style=\"font-size: 35px; color: Green;font-family: 'Times New Roman', Times, serif;\">Investigate the dataset</span>.\n",
    "<span style=\"font-size: 20px; color: red;font-family: 'Times New Roman', Times, serif;\">Rename Columns</span> "
   ],
   "metadata": {
    "collapsed": false
   }
  },
  {
   "cell_type": "code",
   "outputs": [
    {
     "data": {
      "text/plain": "           destination  passenger weather  temperature  time  \\\n0      No Urgent Place      Alone   Sunny           55   2PM   \n1      No Urgent Place  Friend(s)   Sunny           80  10AM   \n2      No Urgent Place  Friend(s)   Sunny           80  10AM   \n3      No Urgent Place  Friend(s)   Sunny           80   2PM   \n4      No Urgent Place  Friend(s)   Sunny           80   2PM   \n...                ...        ...     ...          ...   ...   \n12679             Home    Partner   Rainy           55   6PM   \n12680             Work      Alone   Rainy           55   7AM   \n12681             Work      Alone   Snowy           30   7AM   \n12682             Work      Alone   Snowy           30   7AM   \n12683             Work      Alone   Sunny           80   7AM   \n\n                      coupon expiration  gender age      maritalStatus  ...  \\\n0            Restaurant(<20)         1d  Female  21  Unmarried partner  ...   \n1               Coffee House         2h  Female  21  Unmarried partner  ...   \n2      Carry out & Take away         2h  Female  21  Unmarried partner  ...   \n3               Coffee House         2h  Female  21  Unmarried partner  ...   \n4               Coffee House         1d  Female  21  Unmarried partner  ...   \n...                      ...        ...     ...  ..                ...  ...   \n12679  Carry out & Take away         1d    Male  26             Single  ...   \n12680  Carry out & Take away         1d    Male  26             Single  ...   \n12681           Coffee House         1d    Male  26             Single  ...   \n12682                    Bar         1d    Male  26             Single  ...   \n12683      Restaurant(20-50)         2h    Male  26             Single  ...   \n\n       CoffeeHouse CarryAway RestaurantLessThan20 Restaurant20To50  \\\n0            never       NaN                  4~8              1~3   \n1            never       NaN                  4~8              1~3   \n2            never       NaN                  4~8              1~3   \n3            never       NaN                  4~8              1~3   \n4            never       NaN                  4~8              1~3   \n...            ...       ...                  ...              ...   \n12679        never       1~3                  4~8              1~3   \n12680        never       1~3                  4~8              1~3   \n12681        never       1~3                  4~8              1~3   \n12682        never       1~3                  4~8              1~3   \n12683        never       1~3                  4~8              1~3   \n\n      toCoupon_GEQ5min toCoupon_GEQ15min toCoupon_GEQ25min direction_same  \\\n0                    1                 0                 0              0   \n1                    1                 0                 0              0   \n2                    1                 1                 0              0   \n3                    1                 1                 0              0   \n4                    1                 1                 0              0   \n...                ...               ...               ...            ...   \n12679                1                 0                 0              1   \n12680                1                 0                 0              0   \n12681                1                 0                 0              1   \n12682                1                 1                 1              0   \n12683                1                 0                 0              1   \n\n      direction_opp  Y  \n0                 1  1  \n1                 1  0  \n2                 1  1  \n3                 1  0  \n4                 1  0  \n...             ... ..  \n12679             0  1  \n12680             1  1  \n12681             0  0  \n12682             1  0  \n12683             0  0  \n\n[12684 rows x 26 columns]",
      "text/html": "<div>\n<style scoped>\n    .dataframe tbody tr th:only-of-type {\n        vertical-align: middle;\n    }\n\n    .dataframe tbody tr th {\n        vertical-align: top;\n    }\n\n    .dataframe thead th {\n        text-align: right;\n    }\n</style>\n<table border=\"1\" class=\"dataframe\">\n  <thead>\n    <tr style=\"text-align: right;\">\n      <th></th>\n      <th>destination</th>\n      <th>passenger</th>\n      <th>weather</th>\n      <th>temperature</th>\n      <th>time</th>\n      <th>coupon</th>\n      <th>expiration</th>\n      <th>gender</th>\n      <th>age</th>\n      <th>maritalStatus</th>\n      <th>...</th>\n      <th>CoffeeHouse</th>\n      <th>CarryAway</th>\n      <th>RestaurantLessThan20</th>\n      <th>Restaurant20To50</th>\n      <th>toCoupon_GEQ5min</th>\n      <th>toCoupon_GEQ15min</th>\n      <th>toCoupon_GEQ25min</th>\n      <th>direction_same</th>\n      <th>direction_opp</th>\n      <th>Y</th>\n    </tr>\n  </thead>\n  <tbody>\n    <tr>\n      <th>0</th>\n      <td>No Urgent Place</td>\n      <td>Alone</td>\n      <td>Sunny</td>\n      <td>55</td>\n      <td>2PM</td>\n      <td>Restaurant(&lt;20)</td>\n      <td>1d</td>\n      <td>Female</td>\n      <td>21</td>\n      <td>Unmarried partner</td>\n      <td>...</td>\n      <td>never</td>\n      <td>NaN</td>\n      <td>4~8</td>\n      <td>1~3</td>\n      <td>1</td>\n      <td>0</td>\n      <td>0</td>\n      <td>0</td>\n      <td>1</td>\n      <td>1</td>\n    </tr>\n    <tr>\n      <th>1</th>\n      <td>No Urgent Place</td>\n      <td>Friend(s)</td>\n      <td>Sunny</td>\n      <td>80</td>\n      <td>10AM</td>\n      <td>Coffee House</td>\n      <td>2h</td>\n      <td>Female</td>\n      <td>21</td>\n      <td>Unmarried partner</td>\n      <td>...</td>\n      <td>never</td>\n      <td>NaN</td>\n      <td>4~8</td>\n      <td>1~3</td>\n      <td>1</td>\n      <td>0</td>\n      <td>0</td>\n      <td>0</td>\n      <td>1</td>\n      <td>0</td>\n    </tr>\n    <tr>\n      <th>2</th>\n      <td>No Urgent Place</td>\n      <td>Friend(s)</td>\n      <td>Sunny</td>\n      <td>80</td>\n      <td>10AM</td>\n      <td>Carry out &amp; Take away</td>\n      <td>2h</td>\n      <td>Female</td>\n      <td>21</td>\n      <td>Unmarried partner</td>\n      <td>...</td>\n      <td>never</td>\n      <td>NaN</td>\n      <td>4~8</td>\n      <td>1~3</td>\n      <td>1</td>\n      <td>1</td>\n      <td>0</td>\n      <td>0</td>\n      <td>1</td>\n      <td>1</td>\n    </tr>\n    <tr>\n      <th>3</th>\n      <td>No Urgent Place</td>\n      <td>Friend(s)</td>\n      <td>Sunny</td>\n      <td>80</td>\n      <td>2PM</td>\n      <td>Coffee House</td>\n      <td>2h</td>\n      <td>Female</td>\n      <td>21</td>\n      <td>Unmarried partner</td>\n      <td>...</td>\n      <td>never</td>\n      <td>NaN</td>\n      <td>4~8</td>\n      <td>1~3</td>\n      <td>1</td>\n      <td>1</td>\n      <td>0</td>\n      <td>0</td>\n      <td>1</td>\n      <td>0</td>\n    </tr>\n    <tr>\n      <th>4</th>\n      <td>No Urgent Place</td>\n      <td>Friend(s)</td>\n      <td>Sunny</td>\n      <td>80</td>\n      <td>2PM</td>\n      <td>Coffee House</td>\n      <td>1d</td>\n      <td>Female</td>\n      <td>21</td>\n      <td>Unmarried partner</td>\n      <td>...</td>\n      <td>never</td>\n      <td>NaN</td>\n      <td>4~8</td>\n      <td>1~3</td>\n      <td>1</td>\n      <td>1</td>\n      <td>0</td>\n      <td>0</td>\n      <td>1</td>\n      <td>0</td>\n    </tr>\n    <tr>\n      <th>...</th>\n      <td>...</td>\n      <td>...</td>\n      <td>...</td>\n      <td>...</td>\n      <td>...</td>\n      <td>...</td>\n      <td>...</td>\n      <td>...</td>\n      <td>...</td>\n      <td>...</td>\n      <td>...</td>\n      <td>...</td>\n      <td>...</td>\n      <td>...</td>\n      <td>...</td>\n      <td>...</td>\n      <td>...</td>\n      <td>...</td>\n      <td>...</td>\n      <td>...</td>\n      <td>...</td>\n    </tr>\n    <tr>\n      <th>12679</th>\n      <td>Home</td>\n      <td>Partner</td>\n      <td>Rainy</td>\n      <td>55</td>\n      <td>6PM</td>\n      <td>Carry out &amp; Take away</td>\n      <td>1d</td>\n      <td>Male</td>\n      <td>26</td>\n      <td>Single</td>\n      <td>...</td>\n      <td>never</td>\n      <td>1~3</td>\n      <td>4~8</td>\n      <td>1~3</td>\n      <td>1</td>\n      <td>0</td>\n      <td>0</td>\n      <td>1</td>\n      <td>0</td>\n      <td>1</td>\n    </tr>\n    <tr>\n      <th>12680</th>\n      <td>Work</td>\n      <td>Alone</td>\n      <td>Rainy</td>\n      <td>55</td>\n      <td>7AM</td>\n      <td>Carry out &amp; Take away</td>\n      <td>1d</td>\n      <td>Male</td>\n      <td>26</td>\n      <td>Single</td>\n      <td>...</td>\n      <td>never</td>\n      <td>1~3</td>\n      <td>4~8</td>\n      <td>1~3</td>\n      <td>1</td>\n      <td>0</td>\n      <td>0</td>\n      <td>0</td>\n      <td>1</td>\n      <td>1</td>\n    </tr>\n    <tr>\n      <th>12681</th>\n      <td>Work</td>\n      <td>Alone</td>\n      <td>Snowy</td>\n      <td>30</td>\n      <td>7AM</td>\n      <td>Coffee House</td>\n      <td>1d</td>\n      <td>Male</td>\n      <td>26</td>\n      <td>Single</td>\n      <td>...</td>\n      <td>never</td>\n      <td>1~3</td>\n      <td>4~8</td>\n      <td>1~3</td>\n      <td>1</td>\n      <td>0</td>\n      <td>0</td>\n      <td>1</td>\n      <td>0</td>\n      <td>0</td>\n    </tr>\n    <tr>\n      <th>12682</th>\n      <td>Work</td>\n      <td>Alone</td>\n      <td>Snowy</td>\n      <td>30</td>\n      <td>7AM</td>\n      <td>Bar</td>\n      <td>1d</td>\n      <td>Male</td>\n      <td>26</td>\n      <td>Single</td>\n      <td>...</td>\n      <td>never</td>\n      <td>1~3</td>\n      <td>4~8</td>\n      <td>1~3</td>\n      <td>1</td>\n      <td>1</td>\n      <td>1</td>\n      <td>0</td>\n      <td>1</td>\n      <td>0</td>\n    </tr>\n    <tr>\n      <th>12683</th>\n      <td>Work</td>\n      <td>Alone</td>\n      <td>Sunny</td>\n      <td>80</td>\n      <td>7AM</td>\n      <td>Restaurant(20-50)</td>\n      <td>2h</td>\n      <td>Male</td>\n      <td>26</td>\n      <td>Single</td>\n      <td>...</td>\n      <td>never</td>\n      <td>1~3</td>\n      <td>4~8</td>\n      <td>1~3</td>\n      <td>1</td>\n      <td>0</td>\n      <td>0</td>\n      <td>1</td>\n      <td>0</td>\n      <td>0</td>\n    </tr>\n  </tbody>\n</table>\n<p>12684 rows × 26 columns</p>\n</div>"
     },
     "execution_count": 376,
     "metadata": {},
     "output_type": "execute_result"
    }
   ],
   "source": [
    "data.rename(columns={'passanger': 'passenger'})"
   ],
   "metadata": {
    "collapsed": false,
    "ExecuteTime": {
     "end_time": "2024-02-26T03:39:42.534123900Z",
     "start_time": "2024-02-26T03:39:41.794306Z"
    }
   },
   "execution_count": 376
  },
  {
   "cell_type": "markdown",
   "metadata": {},
   "source": [
    "<span style=\"font-size: 20px; color: red;font-family: 'Times New Roman', Times, serif;\">Check for Null/NaN rows</span>\n"
   ]
  },
  {
   "cell_type": "code",
   "execution_count": 377,
   "metadata": {
    "ExecuteTime": {
     "end_time": "2024-02-26T03:39:42.773204300Z",
     "start_time": "2024-02-26T03:39:42.343000600Z"
    }
   },
   "outputs": [
    {
     "data": {
      "text/plain": "destination                 0\npassanger                   0\nweather                     0\ntemperature                 0\ntime                        0\ncoupon                      0\nexpiration                  0\ngender                      0\nage                         0\nmaritalStatus               0\nhas_children                0\neducation                   0\noccupation                  0\nincome                      0\ncar                     12576\nBar                       107\nCoffeeHouse               217\nCarryAway                 151\nRestaurantLessThan20      130\nRestaurant20To50          189\ntoCoupon_GEQ5min            0\ntoCoupon_GEQ15min           0\ntoCoupon_GEQ25min           0\ndirection_same              0\ndirection_opp               0\nY                           0\ndtype: int64"
     },
     "execution_count": 377,
     "metadata": {},
     "output_type": "execute_result"
    }
   ],
   "source": [
    "data.isnull().sum()"
   ]
  },
  {
   "cell_type": "markdown",
   "source": [
    "<span style=\"font-size: 20px; color: red;font-family: 'Times New Roman', Times, serif;\">Check for duplicate rows</span>"
   ],
   "metadata": {
    "collapsed": false
   }
  },
  {
   "cell_type": "code",
   "outputs": [
    {
     "data": {
      "text/plain": "     destination passanger weather  temperature  time                 coupon  \\\n4192        Work     Alone   Sunny           80   7AM  Carry out & Take away   \n4236        Work     Alone   Sunny           80   7AM  Carry out & Take away   \n4280        Work     Alone   Sunny           80   7AM  Carry out & Take away   \n4324        Work     Alone   Sunny           80   7AM  Carry out & Take away   \n4409        Work     Alone   Sunny           80   7AM  Carry out & Take away   \n...          ...       ...     ...          ...   ...                    ...   \n8511        Home     Alone   Sunny           80   6PM                    Bar   \n8512        Home   Partner   Sunny           30  10PM  Carry out & Take away   \n8513        Work     Alone   Rainy           55   7AM        Restaurant(<20)   \n8515        Work     Alone   Snowy           30   7AM      Restaurant(20-50)   \n8516        Work     Alone   Sunny           80   7AM        Restaurant(<20)   \n\n     expiration  gender age    maritalStatus  ...  CoffeeHouse CarryAway  \\\n4192         1d    Male  26           Single  ...        never       1~3   \n4236         1d    Male  26           Single  ...          gt8       gt8   \n4280         1d  Female  26           Single  ...        never       4~8   \n4324         1d  Female  46           Single  ...        never       4~8   \n4409         1d  Female  21           Single  ...        never     less1   \n...         ...     ...  ..              ...  ...          ...       ...   \n8511         2h    Male  46  Married partner  ...          1~3       1~3   \n8512         2h    Male  46  Married partner  ...          1~3       1~3   \n8513         2h    Male  46  Married partner  ...          1~3       1~3   \n8515         1d    Male  46  Married partner  ...          1~3       1~3   \n8516         1d    Male  46  Married partner  ...          1~3       1~3   \n\n     RestaurantLessThan20 Restaurant20To50 toCoupon_GEQ5min toCoupon_GEQ15min  \\\n4192                less1            less1                1                 1   \n4236                  4~8            less1                1                 1   \n4280                  1~3            less1                1                 1   \n4324                  1~3              1~3                1                 1   \n4409                  1~3            never                1                 1   \n...                   ...              ...              ...               ...   \n8511                less1              1~3                1                 0   \n8512                less1              1~3                1                 1   \n8513                less1              1~3                1                 1   \n8515                less1              1~3                1                 1   \n8516                less1              1~3                1                 0   \n\n     toCoupon_GEQ25min direction_same direction_opp  Y  \n4192                 1              0             1  1  \n4236                 1              0             1  1  \n4280                 1              0             1  1  \n4324                 1              0             1  1  \n4409                 1              0             1  0  \n...                ...            ...           ... ..  \n8511                 0              1             0  1  \n8512                 0              0             1  1  \n8513                 1              0             1  0  \n8515                 1              0             1  0  \n8516                 0              1             0  1  \n\n[74 rows x 26 columns]",
      "text/html": "<div>\n<style scoped>\n    .dataframe tbody tr th:only-of-type {\n        vertical-align: middle;\n    }\n\n    .dataframe tbody tr th {\n        vertical-align: top;\n    }\n\n    .dataframe thead th {\n        text-align: right;\n    }\n</style>\n<table border=\"1\" class=\"dataframe\">\n  <thead>\n    <tr style=\"text-align: right;\">\n      <th></th>\n      <th>destination</th>\n      <th>passanger</th>\n      <th>weather</th>\n      <th>temperature</th>\n      <th>time</th>\n      <th>coupon</th>\n      <th>expiration</th>\n      <th>gender</th>\n      <th>age</th>\n      <th>maritalStatus</th>\n      <th>...</th>\n      <th>CoffeeHouse</th>\n      <th>CarryAway</th>\n      <th>RestaurantLessThan20</th>\n      <th>Restaurant20To50</th>\n      <th>toCoupon_GEQ5min</th>\n      <th>toCoupon_GEQ15min</th>\n      <th>toCoupon_GEQ25min</th>\n      <th>direction_same</th>\n      <th>direction_opp</th>\n      <th>Y</th>\n    </tr>\n  </thead>\n  <tbody>\n    <tr>\n      <th>4192</th>\n      <td>Work</td>\n      <td>Alone</td>\n      <td>Sunny</td>\n      <td>80</td>\n      <td>7AM</td>\n      <td>Carry out &amp; Take away</td>\n      <td>1d</td>\n      <td>Male</td>\n      <td>26</td>\n      <td>Single</td>\n      <td>...</td>\n      <td>never</td>\n      <td>1~3</td>\n      <td>less1</td>\n      <td>less1</td>\n      <td>1</td>\n      <td>1</td>\n      <td>1</td>\n      <td>0</td>\n      <td>1</td>\n      <td>1</td>\n    </tr>\n    <tr>\n      <th>4236</th>\n      <td>Work</td>\n      <td>Alone</td>\n      <td>Sunny</td>\n      <td>80</td>\n      <td>7AM</td>\n      <td>Carry out &amp; Take away</td>\n      <td>1d</td>\n      <td>Male</td>\n      <td>26</td>\n      <td>Single</td>\n      <td>...</td>\n      <td>gt8</td>\n      <td>gt8</td>\n      <td>4~8</td>\n      <td>less1</td>\n      <td>1</td>\n      <td>1</td>\n      <td>1</td>\n      <td>0</td>\n      <td>1</td>\n      <td>1</td>\n    </tr>\n    <tr>\n      <th>4280</th>\n      <td>Work</td>\n      <td>Alone</td>\n      <td>Sunny</td>\n      <td>80</td>\n      <td>7AM</td>\n      <td>Carry out &amp; Take away</td>\n      <td>1d</td>\n      <td>Female</td>\n      <td>26</td>\n      <td>Single</td>\n      <td>...</td>\n      <td>never</td>\n      <td>4~8</td>\n      <td>1~3</td>\n      <td>less1</td>\n      <td>1</td>\n      <td>1</td>\n      <td>1</td>\n      <td>0</td>\n      <td>1</td>\n      <td>1</td>\n    </tr>\n    <tr>\n      <th>4324</th>\n      <td>Work</td>\n      <td>Alone</td>\n      <td>Sunny</td>\n      <td>80</td>\n      <td>7AM</td>\n      <td>Carry out &amp; Take away</td>\n      <td>1d</td>\n      <td>Female</td>\n      <td>46</td>\n      <td>Single</td>\n      <td>...</td>\n      <td>never</td>\n      <td>4~8</td>\n      <td>1~3</td>\n      <td>1~3</td>\n      <td>1</td>\n      <td>1</td>\n      <td>1</td>\n      <td>0</td>\n      <td>1</td>\n      <td>1</td>\n    </tr>\n    <tr>\n      <th>4409</th>\n      <td>Work</td>\n      <td>Alone</td>\n      <td>Sunny</td>\n      <td>80</td>\n      <td>7AM</td>\n      <td>Carry out &amp; Take away</td>\n      <td>1d</td>\n      <td>Female</td>\n      <td>21</td>\n      <td>Single</td>\n      <td>...</td>\n      <td>never</td>\n      <td>less1</td>\n      <td>1~3</td>\n      <td>never</td>\n      <td>1</td>\n      <td>1</td>\n      <td>1</td>\n      <td>0</td>\n      <td>1</td>\n      <td>0</td>\n    </tr>\n    <tr>\n      <th>...</th>\n      <td>...</td>\n      <td>...</td>\n      <td>...</td>\n      <td>...</td>\n      <td>...</td>\n      <td>...</td>\n      <td>...</td>\n      <td>...</td>\n      <td>...</td>\n      <td>...</td>\n      <td>...</td>\n      <td>...</td>\n      <td>...</td>\n      <td>...</td>\n      <td>...</td>\n      <td>...</td>\n      <td>...</td>\n      <td>...</td>\n      <td>...</td>\n      <td>...</td>\n      <td>...</td>\n    </tr>\n    <tr>\n      <th>8511</th>\n      <td>Home</td>\n      <td>Alone</td>\n      <td>Sunny</td>\n      <td>80</td>\n      <td>6PM</td>\n      <td>Bar</td>\n      <td>2h</td>\n      <td>Male</td>\n      <td>46</td>\n      <td>Married partner</td>\n      <td>...</td>\n      <td>1~3</td>\n      <td>1~3</td>\n      <td>less1</td>\n      <td>1~3</td>\n      <td>1</td>\n      <td>0</td>\n      <td>0</td>\n      <td>1</td>\n      <td>0</td>\n      <td>1</td>\n    </tr>\n    <tr>\n      <th>8512</th>\n      <td>Home</td>\n      <td>Partner</td>\n      <td>Sunny</td>\n      <td>30</td>\n      <td>10PM</td>\n      <td>Carry out &amp; Take away</td>\n      <td>2h</td>\n      <td>Male</td>\n      <td>46</td>\n      <td>Married partner</td>\n      <td>...</td>\n      <td>1~3</td>\n      <td>1~3</td>\n      <td>less1</td>\n      <td>1~3</td>\n      <td>1</td>\n      <td>1</td>\n      <td>0</td>\n      <td>0</td>\n      <td>1</td>\n      <td>1</td>\n    </tr>\n    <tr>\n      <th>8513</th>\n      <td>Work</td>\n      <td>Alone</td>\n      <td>Rainy</td>\n      <td>55</td>\n      <td>7AM</td>\n      <td>Restaurant(&lt;20)</td>\n      <td>2h</td>\n      <td>Male</td>\n      <td>46</td>\n      <td>Married partner</td>\n      <td>...</td>\n      <td>1~3</td>\n      <td>1~3</td>\n      <td>less1</td>\n      <td>1~3</td>\n      <td>1</td>\n      <td>1</td>\n      <td>1</td>\n      <td>0</td>\n      <td>1</td>\n      <td>0</td>\n    </tr>\n    <tr>\n      <th>8515</th>\n      <td>Work</td>\n      <td>Alone</td>\n      <td>Snowy</td>\n      <td>30</td>\n      <td>7AM</td>\n      <td>Restaurant(20-50)</td>\n      <td>1d</td>\n      <td>Male</td>\n      <td>46</td>\n      <td>Married partner</td>\n      <td>...</td>\n      <td>1~3</td>\n      <td>1~3</td>\n      <td>less1</td>\n      <td>1~3</td>\n      <td>1</td>\n      <td>1</td>\n      <td>1</td>\n      <td>0</td>\n      <td>1</td>\n      <td>0</td>\n    </tr>\n    <tr>\n      <th>8516</th>\n      <td>Work</td>\n      <td>Alone</td>\n      <td>Sunny</td>\n      <td>80</td>\n      <td>7AM</td>\n      <td>Restaurant(&lt;20)</td>\n      <td>1d</td>\n      <td>Male</td>\n      <td>46</td>\n      <td>Married partner</td>\n      <td>...</td>\n      <td>1~3</td>\n      <td>1~3</td>\n      <td>less1</td>\n      <td>1~3</td>\n      <td>1</td>\n      <td>0</td>\n      <td>0</td>\n      <td>1</td>\n      <td>0</td>\n      <td>1</td>\n    </tr>\n  </tbody>\n</table>\n<p>74 rows × 26 columns</p>\n</div>"
     },
     "execution_count": 378,
     "metadata": {},
     "output_type": "execute_result"
    }
   ],
   "source": [
    "data.loc[data.duplicated()]"
   ],
   "metadata": {
    "collapsed": false,
    "ExecuteTime": {
     "end_time": "2024-02-26T03:39:43.217700500Z",
     "start_time": "2024-02-26T03:39:42.766571700Z"
    }
   },
   "execution_count": 378
  },
  {
   "cell_type": "markdown",
   "metadata": {},
   "source": [
    "<span style=\"font-size: 20px; color: red;font-family: 'Times New Roman', Times, serif;\">Decide what to do about your missing data </span>\n",
    "<ul style=\"font-size: 17px; color: black; font-family: 'Times New Roman', Times, serif; list-style-type: disc; padding-left: 0; margin-left: 25px;\">\n",
    "  <li>We will drop car column as it has 99% of empty values relative to the whole dataset</li>\n",
    "  <li>We will drop all duplicated rows</li>\n",
    "</ul>"
   ]
  },
  {
   "cell_type": "code",
   "outputs": [
    {
     "name": "stdout",
     "output_type": "stream",
     "text": [
      "Car null values are 99.15% of the whole dataset. Huge chunk of null data, drop column\n",
      "Bar null values are 0.84% of the whole dataset.Manageable null data, drop rows\n",
      "Coffee House null values are 1.71% of the whole dataset. Manageable null data, drop rows\n",
      "CarryAway null values are 1.19% of the whole dataset. Manageable null data, drop rows\n",
      "Restaurant <20% null values are 1.02% of the whole dataset. Manageable null data, drop rows\n",
      "Restaurance 20-50% null values are 1.49% of the whole dataset. Manageable null data, drop rows\n"
     ]
    }
   ],
   "source": [
    "# print(data[\"car\"].value_counts().idxmax())\n",
    "\n",
    "CarNAPerct = (data['car'].isnull().sum() / data.shape[0])*100 \n",
    "print(f\"Car null values are {CarNAPerct:.2f}% of the whole dataset. Huge chunk of null data, drop column\")\n",
    "\n",
    "BarNAPerct = (data['Bar'].isnull().sum() / data.shape[0])*100 \n",
    "print(f\"Bar null values are {BarNAPerct:.2f}% of the whole dataset.Manageable null data, drop rows\")\n",
    "\n",
    "CoffeeHouseNAPerct = (data['CoffeeHouse'].isnull().sum() / data.shape[0])*100 \n",
    "print(f\"Coffee House null values are {CoffeeHouseNAPerct:.2f}% of the whole dataset. Manageable null data, drop rows\")\n",
    "\n",
    "CarryAwayNAPerct = (data['CarryAway'].isnull().sum() / data.shape[0])*100 \n",
    "print(f\"CarryAway null values are {CarryAwayNAPerct:.2f}% of the whole dataset. Manageable null data, drop rows\")\n",
    "\n",
    "RestLT20NAPerct = (data['RestaurantLessThan20'].isnull().sum() / data.shape[0])*100 \n",
    "print(f\"Restaurant <20% null values are {RestLT20NAPerct:.2f}% of the whole dataset. Manageable null data, drop rows\")\n",
    "\n",
    "Rest20_50NAPerct = (data['Restaurant20To50'].isnull().sum() / data.shape[0])*100 \n",
    "print(f\"Restaurance 20-50% null values are {Rest20_50NAPerct:.2f}% of the whole dataset. Manageable null data, drop rows\")"
   ],
   "metadata": {
    "collapsed": false,
    "ExecuteTime": {
     "end_time": "2024-02-26T03:39:43.571365900Z",
     "start_time": "2024-02-26T03:39:43.146310700Z"
    }
   },
   "execution_count": 379
  },
  {
   "cell_type": "code",
   "execution_count": 380,
   "metadata": {
    "ExecuteTime": {
     "end_time": "2024-02-26T03:39:44.748090700Z",
     "start_time": "2024-02-26T03:39:43.527468900Z"
    }
   },
   "outputs": [
    {
     "data": {
      "text/plain": "(12079, 25)"
     },
     "execution_count": 380,
     "metadata": {},
     "output_type": "execute_result"
    }
   ],
   "source": [
    "data= data.drop(columns=['car'])  # Drop Car Column  \n",
    "data = data.dropna(subset=['Bar', 'CoffeeHouse', 'CarryAway', 'RestaurantLessThan20','Restaurant20To50']) # Drop all rows that have empty values for Bar, CoffeeHouse, CarryAway,RestaurantLessThan20,Restaurant20To50\n",
    "data.shape"
   ]
  },
  {
   "cell_type": "code",
   "outputs": [
    {
     "data": {
      "text/plain": "(12007, 25)"
     },
     "execution_count": 381,
     "metadata": {},
     "output_type": "execute_result"
    }
   ],
   "source": [
    "data= data.drop_duplicates() # Drop Duplicates\n",
    "data.loc[data.duplicated()]\n",
    "data.shape"
   ],
   "metadata": {
    "collapsed": false,
    "ExecuteTime": {
     "end_time": "2024-02-26T03:39:45.550902500Z",
     "start_time": "2024-02-26T03:39:44.688815Z"
    }
   },
   "execution_count": 381
  },
  {
   "cell_type": "markdown",
   "metadata": {},
   "source": [
    "<span style=\"font-size: 20px; color: red;font-family: 'Times New Roman', Times, serif;\">What proportion of the total observations chose to accept the coupon?</span>  "
   ]
  },
  {
   "cell_type": "code",
   "execution_count": 382,
   "metadata": {
    "ExecuteTime": {
     "end_time": "2024-02-26T03:39:46.591971300Z",
     "start_time": "2024-02-26T03:39:45.225945800Z"
    }
   },
   "outputs": [
    {
     "name": "stdout",
     "output_type": "stream",
     "text": [
      "Proportion of total accepted coupons is 0.5684184225868244\n"
     ]
    }
   ],
   "source": [
    "print(f\"Proportion of total accepted coupons is {data[\"Y\"].mean()}\")"
   ]
  },
  {
   "cell_type": "markdown",
   "metadata": {},
   "source": [
    "<span style=\"font-size: 20px; color: red;font-family: 'Times New Roman', Times, serif;\">Use a bar plot to visualize the coupon column</span> "
   ]
  },
  {
   "cell_type": "code",
   "execution_count": 383,
   "metadata": {
    "ExecuteTime": {
     "end_time": "2024-02-26T03:39:47.183783700Z",
     "start_time": "2024-02-26T03:39:46.568261300Z"
    }
   },
   "outputs": [
    {
     "data": {
      "application/vnd.plotly.v1+json": {
       "data": [
        {
         "alignmentgroup": "True",
         "hovertemplate": "Coupon type=%{x}<br>Count of coupons=%{y}<extra></extra>",
         "legendgroup": "",
         "marker": {
          "color": "#636efa",
          "pattern": {
           "shape": ""
          }
         },
         "name": "",
         "offsetgroup": "",
         "orientation": "v",
         "showlegend": false,
         "textposition": "auto",
         "x": [
          "Coffee House",
          "Restaurant(<20)",
          "Carry out & Take away",
          "Bar",
          "Restaurant(20-50)"
         ],
         "xaxis": "x",
         "y": [
          3809,
          2646,
          2233,
          1906,
          1413
         ],
         "yaxis": "y",
         "type": "bar"
        }
       ],
       "layout": {
        "template": {
         "data": {
          "histogram2dcontour": [
           {
            "type": "histogram2dcontour",
            "colorbar": {
             "outlinewidth": 0,
             "ticks": ""
            },
            "colorscale": [
             [
              0.0,
              "#0d0887"
             ],
             [
              0.1111111111111111,
              "#46039f"
             ],
             [
              0.2222222222222222,
              "#7201a8"
             ],
             [
              0.3333333333333333,
              "#9c179e"
             ],
             [
              0.4444444444444444,
              "#bd3786"
             ],
             [
              0.5555555555555556,
              "#d8576b"
             ],
             [
              0.6666666666666666,
              "#ed7953"
             ],
             [
              0.7777777777777778,
              "#fb9f3a"
             ],
             [
              0.8888888888888888,
              "#fdca26"
             ],
             [
              1.0,
              "#f0f921"
             ]
            ]
           }
          ],
          "choropleth": [
           {
            "type": "choropleth",
            "colorbar": {
             "outlinewidth": 0,
             "ticks": ""
            }
           }
          ],
          "histogram2d": [
           {
            "type": "histogram2d",
            "colorbar": {
             "outlinewidth": 0,
             "ticks": ""
            },
            "colorscale": [
             [
              0.0,
              "#0d0887"
             ],
             [
              0.1111111111111111,
              "#46039f"
             ],
             [
              0.2222222222222222,
              "#7201a8"
             ],
             [
              0.3333333333333333,
              "#9c179e"
             ],
             [
              0.4444444444444444,
              "#bd3786"
             ],
             [
              0.5555555555555556,
              "#d8576b"
             ],
             [
              0.6666666666666666,
              "#ed7953"
             ],
             [
              0.7777777777777778,
              "#fb9f3a"
             ],
             [
              0.8888888888888888,
              "#fdca26"
             ],
             [
              1.0,
              "#f0f921"
             ]
            ]
           }
          ],
          "heatmap": [
           {
            "type": "heatmap",
            "colorbar": {
             "outlinewidth": 0,
             "ticks": ""
            },
            "colorscale": [
             [
              0.0,
              "#0d0887"
             ],
             [
              0.1111111111111111,
              "#46039f"
             ],
             [
              0.2222222222222222,
              "#7201a8"
             ],
             [
              0.3333333333333333,
              "#9c179e"
             ],
             [
              0.4444444444444444,
              "#bd3786"
             ],
             [
              0.5555555555555556,
              "#d8576b"
             ],
             [
              0.6666666666666666,
              "#ed7953"
             ],
             [
              0.7777777777777778,
              "#fb9f3a"
             ],
             [
              0.8888888888888888,
              "#fdca26"
             ],
             [
              1.0,
              "#f0f921"
             ]
            ]
           }
          ],
          "heatmapgl": [
           {
            "type": "heatmapgl",
            "colorbar": {
             "outlinewidth": 0,
             "ticks": ""
            },
            "colorscale": [
             [
              0.0,
              "#0d0887"
             ],
             [
              0.1111111111111111,
              "#46039f"
             ],
             [
              0.2222222222222222,
              "#7201a8"
             ],
             [
              0.3333333333333333,
              "#9c179e"
             ],
             [
              0.4444444444444444,
              "#bd3786"
             ],
             [
              0.5555555555555556,
              "#d8576b"
             ],
             [
              0.6666666666666666,
              "#ed7953"
             ],
             [
              0.7777777777777778,
              "#fb9f3a"
             ],
             [
              0.8888888888888888,
              "#fdca26"
             ],
             [
              1.0,
              "#f0f921"
             ]
            ]
           }
          ],
          "contourcarpet": [
           {
            "type": "contourcarpet",
            "colorbar": {
             "outlinewidth": 0,
             "ticks": ""
            }
           }
          ],
          "contour": [
           {
            "type": "contour",
            "colorbar": {
             "outlinewidth": 0,
             "ticks": ""
            },
            "colorscale": [
             [
              0.0,
              "#0d0887"
             ],
             [
              0.1111111111111111,
              "#46039f"
             ],
             [
              0.2222222222222222,
              "#7201a8"
             ],
             [
              0.3333333333333333,
              "#9c179e"
             ],
             [
              0.4444444444444444,
              "#bd3786"
             ],
             [
              0.5555555555555556,
              "#d8576b"
             ],
             [
              0.6666666666666666,
              "#ed7953"
             ],
             [
              0.7777777777777778,
              "#fb9f3a"
             ],
             [
              0.8888888888888888,
              "#fdca26"
             ],
             [
              1.0,
              "#f0f921"
             ]
            ]
           }
          ],
          "surface": [
           {
            "type": "surface",
            "colorbar": {
             "outlinewidth": 0,
             "ticks": ""
            },
            "colorscale": [
             [
              0.0,
              "#0d0887"
             ],
             [
              0.1111111111111111,
              "#46039f"
             ],
             [
              0.2222222222222222,
              "#7201a8"
             ],
             [
              0.3333333333333333,
              "#9c179e"
             ],
             [
              0.4444444444444444,
              "#bd3786"
             ],
             [
              0.5555555555555556,
              "#d8576b"
             ],
             [
              0.6666666666666666,
              "#ed7953"
             ],
             [
              0.7777777777777778,
              "#fb9f3a"
             ],
             [
              0.8888888888888888,
              "#fdca26"
             ],
             [
              1.0,
              "#f0f921"
             ]
            ]
           }
          ],
          "mesh3d": [
           {
            "type": "mesh3d",
            "colorbar": {
             "outlinewidth": 0,
             "ticks": ""
            }
           }
          ],
          "scatter": [
           {
            "fillpattern": {
             "fillmode": "overlay",
             "size": 10,
             "solidity": 0.2
            },
            "type": "scatter"
           }
          ],
          "parcoords": [
           {
            "type": "parcoords",
            "line": {
             "colorbar": {
              "outlinewidth": 0,
              "ticks": ""
             }
            }
           }
          ],
          "scatterpolargl": [
           {
            "type": "scatterpolargl",
            "marker": {
             "colorbar": {
              "outlinewidth": 0,
              "ticks": ""
             }
            }
           }
          ],
          "bar": [
           {
            "error_x": {
             "color": "#2a3f5f"
            },
            "error_y": {
             "color": "#2a3f5f"
            },
            "marker": {
             "line": {
              "color": "#E5ECF6",
              "width": 0.5
             },
             "pattern": {
              "fillmode": "overlay",
              "size": 10,
              "solidity": 0.2
             }
            },
            "type": "bar"
           }
          ],
          "scattergeo": [
           {
            "type": "scattergeo",
            "marker": {
             "colorbar": {
              "outlinewidth": 0,
              "ticks": ""
             }
            }
           }
          ],
          "scatterpolar": [
           {
            "type": "scatterpolar",
            "marker": {
             "colorbar": {
              "outlinewidth": 0,
              "ticks": ""
             }
            }
           }
          ],
          "histogram": [
           {
            "marker": {
             "pattern": {
              "fillmode": "overlay",
              "size": 10,
              "solidity": 0.2
             }
            },
            "type": "histogram"
           }
          ],
          "scattergl": [
           {
            "type": "scattergl",
            "marker": {
             "colorbar": {
              "outlinewidth": 0,
              "ticks": ""
             }
            }
           }
          ],
          "scatter3d": [
           {
            "type": "scatter3d",
            "line": {
             "colorbar": {
              "outlinewidth": 0,
              "ticks": ""
             }
            },
            "marker": {
             "colorbar": {
              "outlinewidth": 0,
              "ticks": ""
             }
            }
           }
          ],
          "scattermapbox": [
           {
            "type": "scattermapbox",
            "marker": {
             "colorbar": {
              "outlinewidth": 0,
              "ticks": ""
             }
            }
           }
          ],
          "scatterternary": [
           {
            "type": "scatterternary",
            "marker": {
             "colorbar": {
              "outlinewidth": 0,
              "ticks": ""
             }
            }
           }
          ],
          "scattercarpet": [
           {
            "type": "scattercarpet",
            "marker": {
             "colorbar": {
              "outlinewidth": 0,
              "ticks": ""
             }
            }
           }
          ],
          "carpet": [
           {
            "aaxis": {
             "endlinecolor": "#2a3f5f",
             "gridcolor": "white",
             "linecolor": "white",
             "minorgridcolor": "white",
             "startlinecolor": "#2a3f5f"
            },
            "baxis": {
             "endlinecolor": "#2a3f5f",
             "gridcolor": "white",
             "linecolor": "white",
             "minorgridcolor": "white",
             "startlinecolor": "#2a3f5f"
            },
            "type": "carpet"
           }
          ],
          "table": [
           {
            "cells": {
             "fill": {
              "color": "#EBF0F8"
             },
             "line": {
              "color": "white"
             }
            },
            "header": {
             "fill": {
              "color": "#C8D4E3"
             },
             "line": {
              "color": "white"
             }
            },
            "type": "table"
           }
          ],
          "barpolar": [
           {
            "marker": {
             "line": {
              "color": "#E5ECF6",
              "width": 0.5
             },
             "pattern": {
              "fillmode": "overlay",
              "size": 10,
              "solidity": 0.2
             }
            },
            "type": "barpolar"
           }
          ],
          "pie": [
           {
            "automargin": true,
            "type": "pie"
           }
          ]
         },
         "layout": {
          "autotypenumbers": "strict",
          "colorway": [
           "#636efa",
           "#EF553B",
           "#00cc96",
           "#ab63fa",
           "#FFA15A",
           "#19d3f3",
           "#FF6692",
           "#B6E880",
           "#FF97FF",
           "#FECB52"
          ],
          "font": {
           "color": "#2a3f5f"
          },
          "hovermode": "closest",
          "hoverlabel": {
           "align": "left"
          },
          "paper_bgcolor": "white",
          "plot_bgcolor": "#E5ECF6",
          "polar": {
           "bgcolor": "#E5ECF6",
           "angularaxis": {
            "gridcolor": "white",
            "linecolor": "white",
            "ticks": ""
           },
           "radialaxis": {
            "gridcolor": "white",
            "linecolor": "white",
            "ticks": ""
           }
          },
          "ternary": {
           "bgcolor": "#E5ECF6",
           "aaxis": {
            "gridcolor": "white",
            "linecolor": "white",
            "ticks": ""
           },
           "baxis": {
            "gridcolor": "white",
            "linecolor": "white",
            "ticks": ""
           },
           "caxis": {
            "gridcolor": "white",
            "linecolor": "white",
            "ticks": ""
           }
          },
          "coloraxis": {
           "colorbar": {
            "outlinewidth": 0,
            "ticks": ""
           }
          },
          "colorscale": {
           "sequential": [
            [
             0.0,
             "#0d0887"
            ],
            [
             0.1111111111111111,
             "#46039f"
            ],
            [
             0.2222222222222222,
             "#7201a8"
            ],
            [
             0.3333333333333333,
             "#9c179e"
            ],
            [
             0.4444444444444444,
             "#bd3786"
            ],
            [
             0.5555555555555556,
             "#d8576b"
            ],
            [
             0.6666666666666666,
             "#ed7953"
            ],
            [
             0.7777777777777778,
             "#fb9f3a"
            ],
            [
             0.8888888888888888,
             "#fdca26"
            ],
            [
             1.0,
             "#f0f921"
            ]
           ],
           "sequentialminus": [
            [
             0.0,
             "#0d0887"
            ],
            [
             0.1111111111111111,
             "#46039f"
            ],
            [
             0.2222222222222222,
             "#7201a8"
            ],
            [
             0.3333333333333333,
             "#9c179e"
            ],
            [
             0.4444444444444444,
             "#bd3786"
            ],
            [
             0.5555555555555556,
             "#d8576b"
            ],
            [
             0.6666666666666666,
             "#ed7953"
            ],
            [
             0.7777777777777778,
             "#fb9f3a"
            ],
            [
             0.8888888888888888,
             "#fdca26"
            ],
            [
             1.0,
             "#f0f921"
            ]
           ],
           "diverging": [
            [
             0,
             "#8e0152"
            ],
            [
             0.1,
             "#c51b7d"
            ],
            [
             0.2,
             "#de77ae"
            ],
            [
             0.3,
             "#f1b6da"
            ],
            [
             0.4,
             "#fde0ef"
            ],
            [
             0.5,
             "#f7f7f7"
            ],
            [
             0.6,
             "#e6f5d0"
            ],
            [
             0.7,
             "#b8e186"
            ],
            [
             0.8,
             "#7fbc41"
            ],
            [
             0.9,
             "#4d9221"
            ],
            [
             1,
             "#276419"
            ]
           ]
          },
          "xaxis": {
           "gridcolor": "white",
           "linecolor": "white",
           "ticks": "",
           "title": {
            "standoff": 15
           },
           "zerolinecolor": "white",
           "automargin": true,
           "zerolinewidth": 2
          },
          "yaxis": {
           "gridcolor": "white",
           "linecolor": "white",
           "ticks": "",
           "title": {
            "standoff": 15
           },
           "zerolinecolor": "white",
           "automargin": true,
           "zerolinewidth": 2
          },
          "scene": {
           "xaxis": {
            "backgroundcolor": "#E5ECF6",
            "gridcolor": "white",
            "linecolor": "white",
            "showbackground": true,
            "ticks": "",
            "zerolinecolor": "white",
            "gridwidth": 2
           },
           "yaxis": {
            "backgroundcolor": "#E5ECF6",
            "gridcolor": "white",
            "linecolor": "white",
            "showbackground": true,
            "ticks": "",
            "zerolinecolor": "white",
            "gridwidth": 2
           },
           "zaxis": {
            "backgroundcolor": "#E5ECF6",
            "gridcolor": "white",
            "linecolor": "white",
            "showbackground": true,
            "ticks": "",
            "zerolinecolor": "white",
            "gridwidth": 2
           }
          },
          "shapedefaults": {
           "line": {
            "color": "#2a3f5f"
           }
          },
          "annotationdefaults": {
           "arrowcolor": "#2a3f5f",
           "arrowhead": 0,
           "arrowwidth": 1
          },
          "geo": {
           "bgcolor": "white",
           "landcolor": "#E5ECF6",
           "subunitcolor": "white",
           "showland": true,
           "showlakes": true,
           "lakecolor": "white"
          },
          "title": {
           "x": 0.05
          },
          "mapbox": {
           "style": "light"
          }
         }
        },
        "xaxis": {
         "anchor": "y",
         "domain": [
          0.0,
          1.0
         ],
         "title": {
          "text": "Coupon type"
         }
        },
        "yaxis": {
         "anchor": "x",
         "domain": [
          0.0,
          1.0
         ],
         "title": {
          "text": "Count of coupons"
         }
        },
        "legend": {
         "tracegroupgap": 0
        },
        "title": {
         "text": "Coupon Column Visualization"
        },
        "barmode": "relative",
        "width": 500,
        "height": 500
       },
       "config": {
        "plotlyServerURL": "https://plot.ly"
       }
      },
      "text/html": "<div>                            <div id=\"9e6dd6ff-f5d5-45f3-bfa0-71253a7ad06b\" class=\"plotly-graph-div\" style=\"height:500px; width:500px;\"></div>            <script type=\"text/javascript\">                require([\"plotly\"], function(Plotly) {                    window.PLOTLYENV=window.PLOTLYENV || {};                                    if (document.getElementById(\"9e6dd6ff-f5d5-45f3-bfa0-71253a7ad06b\")) {                    Plotly.newPlot(                        \"9e6dd6ff-f5d5-45f3-bfa0-71253a7ad06b\",                        [{\"alignmentgroup\":\"True\",\"hovertemplate\":\"Coupon type=%{x}\\u003cbr\\u003eCount of coupons=%{y}\\u003cextra\\u003e\\u003c\\u002fextra\\u003e\",\"legendgroup\":\"\",\"marker\":{\"color\":\"#636efa\",\"pattern\":{\"shape\":\"\"}},\"name\":\"\",\"offsetgroup\":\"\",\"orientation\":\"v\",\"showlegend\":false,\"textposition\":\"auto\",\"x\":[\"Coffee House\",\"Restaurant(\\u003c20)\",\"Carry out & Take away\",\"Bar\",\"Restaurant(20-50)\"],\"xaxis\":\"x\",\"y\":[3809,2646,2233,1906,1413],\"yaxis\":\"y\",\"type\":\"bar\"}],                        {\"template\":{\"data\":{\"histogram2dcontour\":[{\"type\":\"histogram2dcontour\",\"colorbar\":{\"outlinewidth\":0,\"ticks\":\"\"},\"colorscale\":[[0.0,\"#0d0887\"],[0.1111111111111111,\"#46039f\"],[0.2222222222222222,\"#7201a8\"],[0.3333333333333333,\"#9c179e\"],[0.4444444444444444,\"#bd3786\"],[0.5555555555555556,\"#d8576b\"],[0.6666666666666666,\"#ed7953\"],[0.7777777777777778,\"#fb9f3a\"],[0.8888888888888888,\"#fdca26\"],[1.0,\"#f0f921\"]]}],\"choropleth\":[{\"type\":\"choropleth\",\"colorbar\":{\"outlinewidth\":0,\"ticks\":\"\"}}],\"histogram2d\":[{\"type\":\"histogram2d\",\"colorbar\":{\"outlinewidth\":0,\"ticks\":\"\"},\"colorscale\":[[0.0,\"#0d0887\"],[0.1111111111111111,\"#46039f\"],[0.2222222222222222,\"#7201a8\"],[0.3333333333333333,\"#9c179e\"],[0.4444444444444444,\"#bd3786\"],[0.5555555555555556,\"#d8576b\"],[0.6666666666666666,\"#ed7953\"],[0.7777777777777778,\"#fb9f3a\"],[0.8888888888888888,\"#fdca26\"],[1.0,\"#f0f921\"]]}],\"heatmap\":[{\"type\":\"heatmap\",\"colorbar\":{\"outlinewidth\":0,\"ticks\":\"\"},\"colorscale\":[[0.0,\"#0d0887\"],[0.1111111111111111,\"#46039f\"],[0.2222222222222222,\"#7201a8\"],[0.3333333333333333,\"#9c179e\"],[0.4444444444444444,\"#bd3786\"],[0.5555555555555556,\"#d8576b\"],[0.6666666666666666,\"#ed7953\"],[0.7777777777777778,\"#fb9f3a\"],[0.8888888888888888,\"#fdca26\"],[1.0,\"#f0f921\"]]}],\"heatmapgl\":[{\"type\":\"heatmapgl\",\"colorbar\":{\"outlinewidth\":0,\"ticks\":\"\"},\"colorscale\":[[0.0,\"#0d0887\"],[0.1111111111111111,\"#46039f\"],[0.2222222222222222,\"#7201a8\"],[0.3333333333333333,\"#9c179e\"],[0.4444444444444444,\"#bd3786\"],[0.5555555555555556,\"#d8576b\"],[0.6666666666666666,\"#ed7953\"],[0.7777777777777778,\"#fb9f3a\"],[0.8888888888888888,\"#fdca26\"],[1.0,\"#f0f921\"]]}],\"contourcarpet\":[{\"type\":\"contourcarpet\",\"colorbar\":{\"outlinewidth\":0,\"ticks\":\"\"}}],\"contour\":[{\"type\":\"contour\",\"colorbar\":{\"outlinewidth\":0,\"ticks\":\"\"},\"colorscale\":[[0.0,\"#0d0887\"],[0.1111111111111111,\"#46039f\"],[0.2222222222222222,\"#7201a8\"],[0.3333333333333333,\"#9c179e\"],[0.4444444444444444,\"#bd3786\"],[0.5555555555555556,\"#d8576b\"],[0.6666666666666666,\"#ed7953\"],[0.7777777777777778,\"#fb9f3a\"],[0.8888888888888888,\"#fdca26\"],[1.0,\"#f0f921\"]]}],\"surface\":[{\"type\":\"surface\",\"colorbar\":{\"outlinewidth\":0,\"ticks\":\"\"},\"colorscale\":[[0.0,\"#0d0887\"],[0.1111111111111111,\"#46039f\"],[0.2222222222222222,\"#7201a8\"],[0.3333333333333333,\"#9c179e\"],[0.4444444444444444,\"#bd3786\"],[0.5555555555555556,\"#d8576b\"],[0.6666666666666666,\"#ed7953\"],[0.7777777777777778,\"#fb9f3a\"],[0.8888888888888888,\"#fdca26\"],[1.0,\"#f0f921\"]]}],\"mesh3d\":[{\"type\":\"mesh3d\",\"colorbar\":{\"outlinewidth\":0,\"ticks\":\"\"}}],\"scatter\":[{\"fillpattern\":{\"fillmode\":\"overlay\",\"size\":10,\"solidity\":0.2},\"type\":\"scatter\"}],\"parcoords\":[{\"type\":\"parcoords\",\"line\":{\"colorbar\":{\"outlinewidth\":0,\"ticks\":\"\"}}}],\"scatterpolargl\":[{\"type\":\"scatterpolargl\",\"marker\":{\"colorbar\":{\"outlinewidth\":0,\"ticks\":\"\"}}}],\"bar\":[{\"error_x\":{\"color\":\"#2a3f5f\"},\"error_y\":{\"color\":\"#2a3f5f\"},\"marker\":{\"line\":{\"color\":\"#E5ECF6\",\"width\":0.5},\"pattern\":{\"fillmode\":\"overlay\",\"size\":10,\"solidity\":0.2}},\"type\":\"bar\"}],\"scattergeo\":[{\"type\":\"scattergeo\",\"marker\":{\"colorbar\":{\"outlinewidth\":0,\"ticks\":\"\"}}}],\"scatterpolar\":[{\"type\":\"scatterpolar\",\"marker\":{\"colorbar\":{\"outlinewidth\":0,\"ticks\":\"\"}}}],\"histogram\":[{\"marker\":{\"pattern\":{\"fillmode\":\"overlay\",\"size\":10,\"solidity\":0.2}},\"type\":\"histogram\"}],\"scattergl\":[{\"type\":\"scattergl\",\"marker\":{\"colorbar\":{\"outlinewidth\":0,\"ticks\":\"\"}}}],\"scatter3d\":[{\"type\":\"scatter3d\",\"line\":{\"colorbar\":{\"outlinewidth\":0,\"ticks\":\"\"}},\"marker\":{\"colorbar\":{\"outlinewidth\":0,\"ticks\":\"\"}}}],\"scattermapbox\":[{\"type\":\"scattermapbox\",\"marker\":{\"colorbar\":{\"outlinewidth\":0,\"ticks\":\"\"}}}],\"scatterternary\":[{\"type\":\"scatterternary\",\"marker\":{\"colorbar\":{\"outlinewidth\":0,\"ticks\":\"\"}}}],\"scattercarpet\":[{\"type\":\"scattercarpet\",\"marker\":{\"colorbar\":{\"outlinewidth\":0,\"ticks\":\"\"}}}],\"carpet\":[{\"aaxis\":{\"endlinecolor\":\"#2a3f5f\",\"gridcolor\":\"white\",\"linecolor\":\"white\",\"minorgridcolor\":\"white\",\"startlinecolor\":\"#2a3f5f\"},\"baxis\":{\"endlinecolor\":\"#2a3f5f\",\"gridcolor\":\"white\",\"linecolor\":\"white\",\"minorgridcolor\":\"white\",\"startlinecolor\":\"#2a3f5f\"},\"type\":\"carpet\"}],\"table\":[{\"cells\":{\"fill\":{\"color\":\"#EBF0F8\"},\"line\":{\"color\":\"white\"}},\"header\":{\"fill\":{\"color\":\"#C8D4E3\"},\"line\":{\"color\":\"white\"}},\"type\":\"table\"}],\"barpolar\":[{\"marker\":{\"line\":{\"color\":\"#E5ECF6\",\"width\":0.5},\"pattern\":{\"fillmode\":\"overlay\",\"size\":10,\"solidity\":0.2}},\"type\":\"barpolar\"}],\"pie\":[{\"automargin\":true,\"type\":\"pie\"}]},\"layout\":{\"autotypenumbers\":\"strict\",\"colorway\":[\"#636efa\",\"#EF553B\",\"#00cc96\",\"#ab63fa\",\"#FFA15A\",\"#19d3f3\",\"#FF6692\",\"#B6E880\",\"#FF97FF\",\"#FECB52\"],\"font\":{\"color\":\"#2a3f5f\"},\"hovermode\":\"closest\",\"hoverlabel\":{\"align\":\"left\"},\"paper_bgcolor\":\"white\",\"plot_bgcolor\":\"#E5ECF6\",\"polar\":{\"bgcolor\":\"#E5ECF6\",\"angularaxis\":{\"gridcolor\":\"white\",\"linecolor\":\"white\",\"ticks\":\"\"},\"radialaxis\":{\"gridcolor\":\"white\",\"linecolor\":\"white\",\"ticks\":\"\"}},\"ternary\":{\"bgcolor\":\"#E5ECF6\",\"aaxis\":{\"gridcolor\":\"white\",\"linecolor\":\"white\",\"ticks\":\"\"},\"baxis\":{\"gridcolor\":\"white\",\"linecolor\":\"white\",\"ticks\":\"\"},\"caxis\":{\"gridcolor\":\"white\",\"linecolor\":\"white\",\"ticks\":\"\"}},\"coloraxis\":{\"colorbar\":{\"outlinewidth\":0,\"ticks\":\"\"}},\"colorscale\":{\"sequential\":[[0.0,\"#0d0887\"],[0.1111111111111111,\"#46039f\"],[0.2222222222222222,\"#7201a8\"],[0.3333333333333333,\"#9c179e\"],[0.4444444444444444,\"#bd3786\"],[0.5555555555555556,\"#d8576b\"],[0.6666666666666666,\"#ed7953\"],[0.7777777777777778,\"#fb9f3a\"],[0.8888888888888888,\"#fdca26\"],[1.0,\"#f0f921\"]],\"sequentialminus\":[[0.0,\"#0d0887\"],[0.1111111111111111,\"#46039f\"],[0.2222222222222222,\"#7201a8\"],[0.3333333333333333,\"#9c179e\"],[0.4444444444444444,\"#bd3786\"],[0.5555555555555556,\"#d8576b\"],[0.6666666666666666,\"#ed7953\"],[0.7777777777777778,\"#fb9f3a\"],[0.8888888888888888,\"#fdca26\"],[1.0,\"#f0f921\"]],\"diverging\":[[0,\"#8e0152\"],[0.1,\"#c51b7d\"],[0.2,\"#de77ae\"],[0.3,\"#f1b6da\"],[0.4,\"#fde0ef\"],[0.5,\"#f7f7f7\"],[0.6,\"#e6f5d0\"],[0.7,\"#b8e186\"],[0.8,\"#7fbc41\"],[0.9,\"#4d9221\"],[1,\"#276419\"]]},\"xaxis\":{\"gridcolor\":\"white\",\"linecolor\":\"white\",\"ticks\":\"\",\"title\":{\"standoff\":15},\"zerolinecolor\":\"white\",\"automargin\":true,\"zerolinewidth\":2},\"yaxis\":{\"gridcolor\":\"white\",\"linecolor\":\"white\",\"ticks\":\"\",\"title\":{\"standoff\":15},\"zerolinecolor\":\"white\",\"automargin\":true,\"zerolinewidth\":2},\"scene\":{\"xaxis\":{\"backgroundcolor\":\"#E5ECF6\",\"gridcolor\":\"white\",\"linecolor\":\"white\",\"showbackground\":true,\"ticks\":\"\",\"zerolinecolor\":\"white\",\"gridwidth\":2},\"yaxis\":{\"backgroundcolor\":\"#E5ECF6\",\"gridcolor\":\"white\",\"linecolor\":\"white\",\"showbackground\":true,\"ticks\":\"\",\"zerolinecolor\":\"white\",\"gridwidth\":2},\"zaxis\":{\"backgroundcolor\":\"#E5ECF6\",\"gridcolor\":\"white\",\"linecolor\":\"white\",\"showbackground\":true,\"ticks\":\"\",\"zerolinecolor\":\"white\",\"gridwidth\":2}},\"shapedefaults\":{\"line\":{\"color\":\"#2a3f5f\"}},\"annotationdefaults\":{\"arrowcolor\":\"#2a3f5f\",\"arrowhead\":0,\"arrowwidth\":1},\"geo\":{\"bgcolor\":\"white\",\"landcolor\":\"#E5ECF6\",\"subunitcolor\":\"white\",\"showland\":true,\"showlakes\":true,\"lakecolor\":\"white\"},\"title\":{\"x\":0.05},\"mapbox\":{\"style\":\"light\"}}},\"xaxis\":{\"anchor\":\"y\",\"domain\":[0.0,1.0],\"title\":{\"text\":\"Coupon type\"}},\"yaxis\":{\"anchor\":\"x\",\"domain\":[0.0,1.0],\"title\":{\"text\":\"Count of coupons\"}},\"legend\":{\"tracegroupgap\":0},\"title\":{\"text\":\"Coupon Column Visualization\"},\"barmode\":\"relative\",\"width\":500,\"height\":500},                        {\"responsive\": true}                    ).then(function(){\n                            \nvar gd = document.getElementById('9e6dd6ff-f5d5-45f3-bfa0-71253a7ad06b');\nvar x = new MutationObserver(function (mutations, observer) {{\n        var display = window.getComputedStyle(gd).display;\n        if (!display || display === 'none') {{\n            console.log([gd, 'removed!']);\n            Plotly.purge(gd);\n            observer.disconnect();\n        }}\n}});\n\n// Listen for the removal of the full notebook cells\nvar notebookContainer = gd.closest('#notebook-container');\nif (notebookContainer) {{\n    x.observe(notebookContainer, {childList: true});\n}}\n\n// Listen for the clearing of the current output cell\nvar outputEl = gd.closest('.output');\nif (outputEl) {{\n    x.observe(outputEl, {childList: true});\n}}\n\n                        })                };                });            </script>        </div>"
     },
     "metadata": {},
     "output_type": "display_data"
    }
   ],
   "source": [
    "coupon_cnts = data[\"coupon\"].value_counts().reset_index()\n",
    "coupon_cnts.columns = [\"Coupon type\", \"Count of coupons\"]  # Rename columns for clarity\n",
    "\n",
    "# Plotting with Plotly Express\n",
    "fig = px.bar(coupon_cnts, x=\"Coupon type\", y=\"Count of coupons\", title=\"Coupon Counts\") \n",
    "fig.update_layout(width=500, height =500, title =\"Coupon Column Visualization\") \n",
    "fig.show() "
   ]
  },
  {
   "cell_type": "markdown",
   "metadata": {},
   "source": [
    "<span style=\"font-size: 20px; color: red;font-family: 'Times New Roman', Times, serif;\">Use a histogram to visualize the temperature column.</span> "
   ]
  },
  {
   "cell_type": "code",
   "execution_count": 384,
   "metadata": {
    "ExecuteTime": {
     "end_time": "2024-02-26T03:39:48.195056200Z",
     "start_time": "2024-02-26T03:39:47.141094400Z"
    }
   },
   "outputs": [
    {
     "data": {
      "text/plain": "(array([   0., 2184.,    0.,    0.,    0.,    0., 3652.,    0.,    0.,\n           0.,    0., 6171.,    0.]),\n array([25., 30., 35., 40., 45., 50., 55., 60., 65., 70., 75., 80., 85.,\n        90.]),\n <BarContainer object of 13 artists>)"
     },
     "execution_count": 384,
     "metadata": {},
     "output_type": "execute_result"
    },
    {
     "data": {
      "text/plain": "<Figure size 600x400 with 1 Axes>",
      "image/png": "[encoded data removed]"
     },
     "metadata": {},
     "output_type": "display_data"
    }
   ],
   "source": [
    "plt.figure(figsize=(6,4))\n",
    "plt.hist(data[\"temperature\"],bins = [25,30,35,40,45,50,55,60,65,70,75,80,85,90],edgecolor ='black')"
   ]
  },
  {
   "cell_type": "markdown",
   "metadata": {},
   "source": [
    "<span style=\"font-size: 40px; color: green;font-family: 'Times New Roman', Times, serif;\">Investigating the Bar Coupons</span>\n",
    "<span style=\"font-size: 20px; color: red;font-family: 'Times New Roman', Times, serif;\">1.Create a new dataFrame that contains just the bar coupons.</span> "
   ]
  },
  {
   "cell_type": "code",
   "execution_count": 385,
   "metadata": {
    "ExecuteTime": {
     "end_time": "2024-02-26T03:39:48.296182200Z",
     "start_time": "2024-02-26T03:39:47.344881300Z"
    }
   },
   "outputs": [
    {
     "data": {
      "text/plain": "           destination  passanger weather  temperature  time coupon  \\\n24     No Urgent Place  Friend(s)   Sunny           80  10AM    Bar   \n35                Home      Alone   Sunny           55   6PM    Bar   \n39                Work      Alone   Sunny           55   7AM    Bar   \n46     No Urgent Place  Friend(s)   Sunny           80  10AM    Bar   \n57                Home      Alone   Sunny           55   6PM    Bar   \n...                ...        ...     ...          ...   ...    ...   \n12663  No Urgent Place  Friend(s)   Sunny           80  10PM    Bar   \n12664  No Urgent Place  Friend(s)   Sunny           55  10PM    Bar   \n12667  No Urgent Place      Alone   Rainy           55  10AM    Bar   \n12670  No Urgent Place    Partner   Rainy           55   6PM    Bar   \n12682             Work      Alone   Snowy           30   7AM    Bar   \n\n      expiration gender age maritalStatus  ...  CoffeeHouse CarryAway  \\\n24            1d   Male  21        Single  ...        less1       4~8   \n35            1d   Male  21        Single  ...        less1       4~8   \n39            1d   Male  21        Single  ...        less1       4~8   \n46            1d   Male  46        Single  ...          4~8       1~3   \n57            1d   Male  46        Single  ...          4~8       1~3   \n...          ...    ...  ..           ...  ...          ...       ...   \n12663         1d   Male  26        Single  ...        never       1~3   \n12664         2h   Male  26        Single  ...        never       1~3   \n12667         1d   Male  26        Single  ...        never       1~3   \n12670         2h   Male  26        Single  ...        never       1~3   \n12682         1d   Male  26        Single  ...        never       1~3   \n\n      RestaurantLessThan20 Restaurant20To50 toCoupon_GEQ5min  \\\n24                     4~8            less1                1   \n35                     4~8            less1                1   \n39                     4~8            less1                1   \n46                     1~3            never                1   \n57                     1~3            never                1   \n...                    ...              ...              ...   \n12663                  4~8              1~3                1   \n12664                  4~8              1~3                1   \n12667                  4~8              1~3                1   \n12670                  4~8              1~3                1   \n12682                  4~8              1~3                1   \n\n      toCoupon_GEQ15min toCoupon_GEQ25min direction_same direction_opp  Y  \n24                    0                 0              0             1  1  \n35                    0                 0              1             0  1  \n39                    1                 1              0             1  1  \n46                    0                 0              0             1  0  \n57                    0                 0              1             0  0  \n...                 ...               ...            ...           ... ..  \n12663                 1                 0              0             1  0  \n12664                 1                 0              0             1  0  \n12667                 1                 0              0             1  0  \n12670                 1                 0              0             1  0  \n12682                 1                 1              0             1  0  \n\n[1906 rows x 25 columns]",
      "text/html": "<div>\n<style scoped>\n    .dataframe tbody tr th:only-of-type {\n        vertical-align: middle;\n    }\n\n    .dataframe tbody tr th {\n        vertical-align: top;\n    }\n\n    .dataframe thead th {\n        text-align: right;\n    }\n</style>\n<table border=\"1\" class=\"dataframe\">\n  <thead>\n    <tr style=\"text-align: right;\">\n      <th></th>\n      <th>destination</th>\n      <th>passanger</th>\n      <th>weather</th>\n      <th>temperature</th>\n      <th>time</th>\n      <th>coupon</th>\n      <th>expiration</th>\n      <th>gender</th>\n      <th>age</th>\n      <th>maritalStatus</th>\n      <th>...</th>\n      <th>CoffeeHouse</th>\n      <th>CarryAway</th>\n      <th>RestaurantLessThan20</th>\n      <th>Restaurant20To50</th>\n      <th>toCoupon_GEQ5min</th>\n      <th>toCoupon_GEQ15min</th>\n      <th>toCoupon_GEQ25min</th>\n      <th>direction_same</th>\n      <th>direction_opp</th>\n      <th>Y</th>\n    </tr>\n  </thead>\n  <tbody>\n    <tr>\n      <th>24</th>\n      <td>No Urgent Place</td>\n      <td>Friend(s)</td>\n      <td>Sunny</td>\n      <td>80</td>\n      <td>10AM</td>\n      <td>Bar</td>\n      <td>1d</td>\n      <td>Male</td>\n      <td>21</td>\n      <td>Single</td>\n      <td>...</td>\n      <td>less1</td>\n      <td>4~8</td>\n      <td>4~8</td>\n      <td>less1</td>\n      <td>1</td>\n      <td>0</td>\n      <td>0</td>\n      <td>0</td>\n      <td>1</td>\n      <td>1</td>\n    </tr>\n    <tr>\n      <th>35</th>\n      <td>Home</td>\n      <td>Alone</td>\n      <td>Sunny</td>\n      <td>55</td>\n      <td>6PM</td>\n      <td>Bar</td>\n      <td>1d</td>\n      <td>Male</td>\n      <td>21</td>\n      <td>Single</td>\n      <td>...</td>\n      <td>less1</td>\n      <td>4~8</td>\n      <td>4~8</td>\n      <td>less1</td>\n      <td>1</td>\n      <td>0</td>\n      <td>0</td>\n      <td>1</td>\n      <td>0</td>\n      <td>1</td>\n    </tr>\n    <tr>\n      <th>39</th>\n      <td>Work</td>\n      <td>Alone</td>\n      <td>Sunny</td>\n      <td>55</td>\n      <td>7AM</td>\n      <td>Bar</td>\n      <td>1d</td>\n      <td>Male</td>\n      <td>21</td>\n      <td>Single</td>\n      <td>...</td>\n      <td>less1</td>\n      <td>4~8</td>\n      <td>4~8</td>\n      <td>less1</td>\n      <td>1</td>\n      <td>1</td>\n      <td>1</td>\n      <td>0</td>\n      <td>1</td>\n      <td>1</td>\n    </tr>\n    <tr>\n      <th>46</th>\n      <td>No Urgent Place</td>\n      <td>Friend(s)</td>\n      <td>Sunny</td>\n      <td>80</td>\n      <td>10AM</td>\n      <td>Bar</td>\n      <td>1d</td>\n      <td>Male</td>\n      <td>46</td>\n      <td>Single</td>\n      <td>...</td>\n      <td>4~8</td>\n      <td>1~3</td>\n      <td>1~3</td>\n      <td>never</td>\n      <td>1</td>\n      <td>0</td>\n      <td>0</td>\n      <td>0</td>\n      <td>1</td>\n      <td>0</td>\n    </tr>\n    <tr>\n      <th>57</th>\n      <td>Home</td>\n      <td>Alone</td>\n      <td>Sunny</td>\n      <td>55</td>\n      <td>6PM</td>\n      <td>Bar</td>\n      <td>1d</td>\n      <td>Male</td>\n      <td>46</td>\n      <td>Single</td>\n      <td>...</td>\n      <td>4~8</td>\n      <td>1~3</td>\n      <td>1~3</td>\n      <td>never</td>\n      <td>1</td>\n      <td>0</td>\n      <td>0</td>\n      <td>1</td>\n      <td>0</td>\n      <td>0</td>\n    </tr>\n    <tr>\n      <th>...</th>\n      <td>...</td>\n      <td>...</td>\n      <td>...</td>\n      <td>...</td>\n      <td>...</td>\n      <td>...</td>\n      <td>...</td>\n      <td>...</td>\n      <td>...</td>\n      <td>...</td>\n      <td>...</td>\n      <td>...</td>\n      <td>...</td>\n      <td>...</td>\n      <td>...</td>\n      <td>...</td>\n      <td>...</td>\n      <td>...</td>\n      <td>...</td>\n      <td>...</td>\n      <td>...</td>\n    </tr>\n    <tr>\n      <th>12663</th>\n      <td>No Urgent Place</td>\n      <td>Friend(s)</td>\n      <td>Sunny</td>\n      <td>80</td>\n      <td>10PM</td>\n      <td>Bar</td>\n      <td>1d</td>\n      <td>Male</td>\n      <td>26</td>\n      <td>Single</td>\n      <td>...</td>\n      <td>never</td>\n      <td>1~3</td>\n      <td>4~8</td>\n      <td>1~3</td>\n      <td>1</td>\n      <td>1</td>\n      <td>0</td>\n      <td>0</td>\n      <td>1</td>\n      <td>0</td>\n    </tr>\n    <tr>\n      <th>12664</th>\n      <td>No Urgent Place</td>\n      <td>Friend(s)</td>\n      <td>Sunny</td>\n      <td>55</td>\n      <td>10PM</td>\n      <td>Bar</td>\n      <td>2h</td>\n      <td>Male</td>\n      <td>26</td>\n      <td>Single</td>\n      <td>...</td>\n      <td>never</td>\n      <td>1~3</td>\n      <td>4~8</td>\n      <td>1~3</td>\n      <td>1</td>\n      <td>1</td>\n      <td>0</td>\n      <td>0</td>\n      <td>1</td>\n      <td>0</td>\n    </tr>\n    <tr>\n      <th>12667</th>\n      <td>No Urgent Place</td>\n      <td>Alone</td>\n      <td>Rainy</td>\n      <td>55</td>\n      <td>10AM</td>\n      <td>Bar</td>\n      <td>1d</td>\n      <td>Male</td>\n      <td>26</td>\n      <td>Single</td>\n      <td>...</td>\n      <td>never</td>\n      <td>1~3</td>\n      <td>4~8</td>\n      <td>1~3</td>\n      <td>1</td>\n      <td>1</td>\n      <td>0</td>\n      <td>0</td>\n      <td>1</td>\n      <td>0</td>\n    </tr>\n    <tr>\n      <th>12670</th>\n      <td>No Urgent Place</td>\n      <td>Partner</td>\n      <td>Rainy</td>\n      <td>55</td>\n      <td>6PM</td>\n      <td>Bar</td>\n      <td>2h</td>\n      <td>Male</td>\n      <td>26</td>\n      <td>Single</td>\n      <td>...</td>\n      <td>never</td>\n      <td>1~3</td>\n      <td>4~8</td>\n      <td>1~3</td>\n      <td>1</td>\n      <td>1</td>\n      <td>0</td>\n      <td>0</td>\n      <td>1</td>\n      <td>0</td>\n    </tr>\n    <tr>\n      <th>12682</th>\n      <td>Work</td>\n      <td>Alone</td>\n      <td>Snowy</td>\n      <td>30</td>\n      <td>7AM</td>\n      <td>Bar</td>\n      <td>1d</td>\n      <td>Male</td>\n      <td>26</td>\n      <td>Single</td>\n      <td>...</td>\n      <td>never</td>\n      <td>1~3</td>\n      <td>4~8</td>\n      <td>1~3</td>\n      <td>1</td>\n      <td>1</td>\n      <td>1</td>\n      <td>0</td>\n      <td>1</td>\n      <td>0</td>\n    </tr>\n  </tbody>\n</table>\n<p>1906 rows × 25 columns</p>\n</div>"
     },
     "execution_count": 385,
     "metadata": {},
     "output_type": "execute_result"
    }
   ],
   "source": [
    "df_BarCouponsOnly = data.query('coupon ==\"Bar\"')\n",
    "df_BarCouponsOnly"
   ]
  },
  {
   "cell_type": "markdown",
   "metadata": {},
   "source": [
    "<span style=\"font-size: 20px; color: red;font-family: 'Times New Roman', Times, serif;\">2.What proportion of bar coupons were accepted?</span> "
   ]
  },
  {
   "cell_type": "code",
   "execution_count": 386,
   "metadata": {
    "ExecuteTime": {
     "end_time": "2024-02-26T03:39:49.187245100Z",
     "start_time": "2024-02-26T03:39:48.226004300Z"
    }
   },
   "outputs": [
    {
     "name": "stdout",
     "output_type": "stream",
     "text": [
      "Proportion of accepted bar coupons is 0.4118572927597062\n"
     ]
    }
   ],
   "source": [
    "df_acceptedBarCoupons = data.query('coupon==\"Bar\" and Y==1')\n",
    "print(f\"Proportion of accepted bar coupons is {len(df_acceptedBarCoupons)/len(df_BarCouponsOnly)}\")"
   ]
  },
  {
   "cell_type": "markdown",
   "metadata": {},
   "source": [
    "<span style=\"font-size: 20px; color: red;font-family: 'Times New Roman', Times, serif;\">3. Compare the acceptance rate between those who went to a bar 3 or fewer times a month to those who went more.</span>  \n"
   ]
  },
  {
   "cell_type": "code",
   "execution_count": 387,
   "metadata": {
    "ExecuteTime": {
     "end_time": "2024-02-26T03:39:49.627755Z",
     "start_time": "2024-02-26T03:39:49.155759600Z"
    }
   },
   "outputs": [
    {
     "data": {
      "text/plain": "Bar\nnever    4916\nless1    3351\n1~3      2365\n4~8      1049\ngt8       326\nName: count, dtype: int64"
     },
     "execution_count": 387,
     "metadata": {},
     "output_type": "execute_result"
    }
   ],
   "source": [
    "data[\"Bar\"].value_counts()"
   ]
  },
  {
   "cell_type": "code",
   "outputs": [
    {
     "data": {
      "text/plain": "<Figure size 640x480 with 1 Axes>",
      "image/png": "[encoded data removed]"
     },
     "metadata": {},
     "output_type": "display_data"
    },
    {
     "data": {
      "text/plain": "<Figure size 600x400 with 0 Axes>"
     },
     "metadata": {},
     "output_type": "display_data"
    }
   ],
   "source": [
    "\n",
    "df_Bar_1To3= data.query('Bar==\"1~3\" and Y==1 ')\n",
    "df_Bar1To3AcceptanceRate= len(df_Bar_1To3)/len(df_BarCouponsOnly) \n",
    "\n",
    "df_4To8= data.query('Bar==\"4~8\" and Y==1 ')\n",
    "df_Bar4To8AcceptanceRate= len(df_4To8)/len(df_BarCouponsOnly) \n",
    "\n",
    "df_gt8= data.query('Bar==\"gt8\" and Y==1 ')\n",
    "df_Bargt8AcceptanceRate= len(df_gt8)/len(df_BarCouponsOnly) \n",
    "\n",
    "rates = [df_Bar1To3AcceptanceRate, df_Bar4To8AcceptanceRate, df_Bargt8AcceptanceRate]\n",
    "group_labels = ['1 to 3 Visits', '4 to 8 Visits', 'Greater than 8 Visits']\n",
    "\n",
    "plt.bar(group_labels, rates, color=['blue','green','yellow'] )\n",
    "plt.title ('Coupon acceptance rate by bar visits')\n",
    "plt.xlabel('Group')\n",
    "plt.ylabel('Coupon acceptance rate')\n",
    "plt.figure(figsize=(6,4))\n",
    "plt.show()"
   ],
   "metadata": {
    "collapsed": false,
    "ExecuteTime": {
     "end_time": "2024-02-26T03:39:50.735143400Z",
     "start_time": "2024-02-26T03:39:49.594940Z"
    }
   },
   "execution_count": 388
  },
  {
   "cell_type": "markdown",
   "metadata": {},
   "source": [
    "<span style=\"font-size: 20px; color: red;font-family: 'Times New Roman', Times, serif;\">4. Compare the acceptance rate between drivers who go to a bar more than once a month and are over the age of 25 to the all others.  Is there a difference?</span>  \n"
   ]
  },
  {
   "cell_type": "code",
   "execution_count": 389,
   "metadata": {
    "ExecuteTime": {
     "end_time": "2024-02-26T03:39:51.267276Z",
     "start_time": "2024-02-26T03:39:50.665537200Z"
    }
   },
   "outputs": [
    {
     "data": {
      "text/plain": "<Figure size 640x480 with 1 Axes>",
      "image/png": "[encoded data removed]"
     },
     "metadata": {},
     "output_type": "display_data"
    },
    {
     "data": {
      "text/plain": "<Figure size 600x400 with 0 Axes>"
     },
     "metadata": {},
     "output_type": "display_data"
    }
   ],
   "source": [
    "#Convert Age to Numeric data type\n",
    "data['age']=pd.to_numeric(data['age'],errors ='coerce').astype('Int64')\n",
    "\n",
    "df_BarVisits_Age = data.query('(Bar == \"1~3\" or Bar == \"4~8\" or Bar == \"gt8\") and (age > 25) and (Y==1)') \n",
    "group_labels =['Over 25 Years & More Than 1 Visit','Rest']\n",
    "values = [df_BarVisits_Age.shape[0],df_BarCouponsOnly.shape[0]]\n",
    " \n",
    " \n",
    "\n",
    "plt.bar(group_labels, values, color=['blue','green'] )\n",
    "plt.title ('Coupon acceptance rate by bar visits and age')\n",
    "plt.xlabel('Group')\n",
    "plt.ylabel('Coupon acceptance rate')\n",
    "plt.figure(figsize=(6,4))\n",
    "plt.show()\n"
   ]
  },
  {
   "cell_type": "markdown",
   "metadata": {},
   "source": [
    "<span style=\"font-size: 20px; color: red;font-family: 'Times New Roman', Times, serif;\">5. Use the same process to compare the acceptance rate between drivers who go to bars more than once a month and had passengers that were not a kid and had occupations other than farming, fishing, or forestry. </span>  \n"
   ]
  },
  {
   "cell_type": "code",
   "execution_count": 389,
   "metadata": {
    "ExecuteTime": {
     "end_time": "2024-02-26T03:39:51.398164500Z",
     "start_time": "2024-02-26T03:39:50.936951700Z"
    }
   },
   "outputs": [],
   "source": []
  },
  {
   "cell_type": "markdown",
   "metadata": {},
   "source": [
    "<span style=\"font-size: 20px; color: red;font-family: 'Times New Roman', Times, serif;\">6. Compare the acceptance rates between those drivers who:</span>\n",
    "<ul>\n",
    "    <li><span style=\"font-size: 20px; color: red; font-family: 'Times New Roman', Times, serif;\">go to bars more than once a month, had passengers that were not a kid, and were not widowed</span></li>\n",
    "    <li><span style=\"font-size: 20px; color: red; font-family: 'Times New Roman', Times, serif;\">go to bars more than once a month and are under the age of 30</span></li>\n",
    "    <li><span style=\"font-size: 20px; color: red; font-family: 'Times New Roman', Times, serif;\">go to cheap restaurants more than 4 times a month and income is less than 50K</span></li>\n",
    "</ul>\n",
    "\n"
   ]
  },
  {
   "cell_type": "code",
   "execution_count": 389,
   "metadata": {
    "ExecuteTime": {
     "end_time": "2024-02-26T03:39:51.767725100Z",
     "start_time": "2024-02-26T03:39:51.370284900Z"
    }
   },
   "outputs": [],
   "source": []
  },
  {
   "cell_type": "markdown",
   "metadata": {},
   "source": [
    "<span style=\"font-size: 20px; color: red;font-family: 'Times New Roman', Times, serif;\">7.  Based on these observations, what do you hypothesize about drivers who accepted the bar coupons? </span>  "
   ]
  },
  {
   "cell_type": "code",
   "execution_count": 389,
   "metadata": {
    "ExecuteTime": {
     "end_time": "2024-02-26T03:39:51.889010500Z",
     "start_time": "2024-02-26T03:39:51.766725400Z"
    }
   },
   "outputs": [],
   "source": []
  },
  {
   "cell_type": "markdown",
   "metadata": {},
   "source": [
    "### Independent Investigation\n",
    "Using the bar coupon example as motivation, you are to explore one of the other coupon groups and try to determine the characteristics of passengers who accept the coupons.  "
   ]
  },
  {
   "cell_type": "code",
   "execution_count": 389,
   "metadata": {
    "ExecuteTime": {
     "end_time": "2024-02-26T03:39:52.113393700Z",
     "start_time": "2024-02-26T03:39:51.856107Z"
    }
   },
   "outputs": [],
   "source": []
  },
  {
   "cell_type": "code",
   "execution_count": 389,
   "metadata": {
    "ExecuteTime": {
     "end_time": "2024-02-26T03:39:52.238167Z",
     "start_time": "2024-02-26T03:39:52.112302800Z"
    }
   },
   "outputs": [],
   "source": []
  },
  {
   "cell_type": "code",
   "execution_count": 389,
   "metadata": {
    "ExecuteTime": {
     "end_time": "2024-02-26T03:39:52.358750300Z",
     "start_time": "2024-02-26T03:39:52.206946400Z"
    }
   },
   "outputs": [],
   "source": []
  },
  {
   "cell_type": "code",
   "execution_count": 389,
   "metadata": {
    "ExecuteTime": {
     "end_time": "2024-02-26T03:39:52.504681Z",
     "start_time": "2024-02-26T03:39:52.319011600Z"
    }
   },
   "outputs": [],
   "source": []
  },
  {
   "cell_type": "code",
   "execution_count": 389,
   "metadata": {
    "ExecuteTime": {
     "end_time": "2024-02-26T03:39:52.659282300Z",
     "start_time": "2024-02-26T03:39:52.503592100Z"
    }
   },
   "outputs": [],
   "source": []
  }
 ],
 "metadata": {
  "kernelspec": {
   "display_name": "Python 3",
   "language": "python",
   "name": "python3"
  },
  "language_info": {
   "codemirror_mode": {
    "name": "ipython",
    "version": 3
   },
   "file_extension": ".py",
   "mimetype": "text/x-python",
   "name": "python",
   "nbconvert_exporter": "python",
   "pygments_lexer": "ipython3",
   "version": "3.8.8"
  },
  "widgets": {
   "application/vnd.jupyter.widget-state+json": {
    "state": {},
    "version_major": 2,
    "version_minor": 0
   }
  }
 },
 "nbformat": 4,
 "nbformat_minor": 4
}
